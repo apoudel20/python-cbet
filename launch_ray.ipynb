{
 "cells": [
  {
   "cell_type": "code",
   "execution_count": 158,
   "metadata": {},
   "outputs": [],
   "source": [
    "import numpy as np\n",
    "import pandas as pd\n",
    "import matplotlib.pyplot as plt"
   ]
  },
  {
   "cell_type": "code",
   "execution_count": 2,
   "metadata": {},
   "outputs": [],
   "source": [
    "class Vector:\n",
    "    def __init__(self, x, y, ray_profile, angle) -> None:\n",
    "        self.spatial_x = x\n",
    "        self.spatial_y = y\n",
    "        self.magnitude = ray_profile\n",
    "        self.direction = angle"
   ]
  },
  {
   "cell_type": "code",
   "execution_count": 32,
   "metadata": {},
   "outputs": [],
   "source": [
    "def rotate(x, y, angle):\n",
    "    new_x = x * np.cos(angle) - y * np.sin(angle)\n",
    "    new_y = x * np.sin(angle) + y * np.cos(angle)\n",
    "    return np.array([new_x, new_y])"
   ]
  },
  {
   "cell_type": "code",
   "execution_count": 3,
   "metadata": {},
   "outputs": [
    {
     "data": {
      "text/plain": [
       "<matplotlib.image.AxesImage at 0x1e0dbb27130>"
      ]
     },
     "execution_count": 3,
     "metadata": {},
     "output_type": "execute_result"
    },
    {
     "data": {
      "image/png": "[encoded data removed]",
      "text/plain": [
       "<Figure size 432x288 with 1 Axes>"
      ]
     },
     "metadata": {
      "needs_background": "light"
     },
     "output_type": "display_data"
    }
   ],
   "source": [
    "space_size, node_size = 5e-4, 100\n",
    "x_space_min, x_space_max, y_space_min, y_space_max = -space_size, space_size, -space_size, space_size\n",
    "x_node_min, x_node_max, y_node_min, y_node_max = 0, node_size, 0, node_size\n",
    "xx, yy = np.meshgrid(range(x_node_min, x_node_max), range(y_node_min, y_node_max))\n",
    "z = yy\n",
    "plt.imshow(z)"
   ]
  },
  {
   "cell_type": "code",
   "execution_count": 52,
   "metadata": {},
   "outputs": [],
   "source": [
    "def space_to_node(space_x,space_y):\n",
    "    node_x = x_node_min + np.floor(x_node_max * (space_x - x_space_min) / (x_space_max - x_space_min))\n",
    "    node_y = y_node_min + np.floor(y_node_max * (space_y - y_space_min) / (y_space_max - y_space_min))\n",
    "    return np.array([node_x, node_y])"
   ]
  },
  {
   "cell_type": "code",
   "execution_count": 187,
   "metadata": {},
   "outputs": [
    {
     "data": {
      "text/plain": [
       "(66, 93)"
      ]
     },
     "execution_count": 187,
     "metadata": {},
     "output_type": "execute_result"
    }
   ],
   "source": [
    "sp =  np.array([np.zeros(2000), np.linspace(-2e-4,2e-4,2000)])\n",
    "sp = sp.T\n",
    "newsp = sp \n",
    "direction = np.pi/4\n",
    "rotated = rotate(*newsp.T, direction).T + [3e-4,3e-4]\n",
    "node_positions = space_to_node(*rotated.T)\n",
    "beam = np.vstack((node_positions, full_beam_profile, np.full(2000,direction)))\n",
    "beam = pd.DataFrame(beam.T)\n",
    "beam = beam.astype({0:'int32',1:'int32'})\n",
    "new_beam = beam.groupby([0,1]).sum()\n",
    "new_beam.index[]"
   ]
  },
  {
   "cell_type": "code",
   "execution_count": 194,
   "metadata": {},
   "outputs": [
    {
     "name": "stdout",
     "output_type": "stream",
     "text": [
      "[None, None]\n"
     ]
    },
    {
     "data": {
      "text/plain": [
       "[<matplotlib.lines.Line2D at 0x1e0e79c6490>]"
      ]
     },
     "execution_count": 194,
     "metadata": {},
     "output_type": "execute_result"
    },
    {
     "data": {
      "image/png": "[encoded data removed]",
      "text/plain": [
       "<Figure size 432x288 with 1 Axes>"
      ]
     },
     "metadata": {
      "needs_background": "light"
     },
     "output_type": "display_data"
    }
   ],
   "source": [
    "laser_start_points = [(0,50), (50,100)]\n",
    "beam_normal_directions = [0,np.pi/2] # radians wrt x axis\n",
    "ray_count_per_beam = 1000\n",
    "\n",
    "scale_factor = 1\n",
    "beam_profile_range = np.linspace(0,0.1,ray_count_per_beam) # phase_r\n",
    "beam_profile = scale_factor * np.exp(-((beam_profile_range/.0375)**2)**(5/2)) # pow_r\n",
    "half_beam_profile = np.min(beam_profile) + beam_profile\n",
    "\n",
    "beam_norm = [\n",
    "    [-1,0,0],\n",
    "    [0,-1,0]\n",
    "]\n",
    "dbeam_norm = [[].append(x) for x in beam_norm]\n",
    "print(dbeam_norm)\n",
    "\n",
    "\n",
    "plt.plot(half_beam_profile)\n"
   ]
  },
  {
   "cell_type": "code",
   "execution_count": null,
   "metadata": {},
   "outputs": [
    {
     "data": {
      "text/plain": [
       "<matplotlib.image.AxesImage at 0x26b16258760>"
      ]
     },
     "execution_count": 64,
     "metadata": {},
     "output_type": "execute_result"
    },
    {
     "data": {
      "image/png": "[encoded data removed]",
      "text/plain": [
       "<Figure size 640x480 with 1 Axes>"
      ]
     },
     "metadata": {},
     "output_type": "display_data"
    }
   ],
   "source": [
    "plt.imshow(z)"
   ]
  },
  {
   "cell_type": "code",
   "execution_count": null,
   "metadata": {},
   "outputs": [],
   "source": []
  }
 ],
 "metadata": {
  "kernelspec": {
   "display_name": "base",
   "language": "python",
   "name": "python3"
  },
  "language_info": {
   "codemirror_mode": {
    "name": "ipython",
    "version": 3
   },
   "file_extension": ".py",
   "mimetype": "text/x-python",
   "name": "python",
   "nbconvert_exporter": "python",
   "pygments_lexer": "ipython3",
   "version": "3.9.12"
  },
  "orig_nbformat": 4,
  "vscode": {
   "interpreter": {
    "hash": "ad2bdc8ecc057115af97d19610ffacc2b4e99fae6737bb82f5d7fb13d2f2c186"
   }
  }
 },
 "nbformat": 4,
 "nbformat_minor": 2
}
