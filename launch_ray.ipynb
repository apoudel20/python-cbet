{
 "cells": [
  {
   "cell_type": "code",
   "execution_count": 1,
   "metadata": {},
   "outputs": [],
   "source": [
    "import numpy as np\n",
    "import pandas as pd\n",
    "import matplotlib.pyplot as plt\n",
    "import matplotlib.bezier as bezier\n",
    "from scipy.special import comb\n",
    "\n",
    "%matplotlib inline"
   ]
  },
  {
   "cell_type": "code",
   "execution_count": 2,
   "metadata": {},
   "outputs": [],
   "source": [
    "class Vector:\n",
    "    def __init__(self, x, y, ray_profile, angle) -> None:\n",
    "        self.spatial_x = x\n",
    "        self.spatial_y = y\n",
    "        self.magnitude = ray_profile\n",
    "        self.direction = angle"
   ]
  },
  {
   "cell_type": "code",
   "execution_count": 3,
   "metadata": {},
   "outputs": [],
   "source": [
    "def rotate(x, y, angle):\n",
    "    new_x = x * np.cos(angle) - y * np.sin(angle)\n",
    "    new_y = x * np.sin(angle) + y * np.cos(angle)\n",
    "    return np.array([new_x, new_y])"
   ]
  },
  {
   "cell_type": "code",
   "execution_count": 63,
   "metadata": {},
   "outputs": [
    {
     "data": {
      "text/plain": [
       "<matplotlib.image.AxesImage at 0x223390dd460>"
      ]
     },
     "execution_count": 63,
     "metadata": {},
     "output_type": "execute_result"
    },
    {
     "data": {
      "image/png": "[encoded data removed]",
      "text/plain": [
       "<Figure size 432x288 with 1 Axes>"
      ]
     },
     "metadata": {
      "needs_background": "light"
     },
     "output_type": "display_data"
    }
   ],
   "source": [
    "space_size, node_size = 5e-4, 100\n",
    "beam_half_width = 2e-4\n",
    "x_space_min, x_space_max, y_space_min, y_space_max = -space_size, space_size, -space_size, space_size\n",
    "x_node_min, x_node_max, y_node_min, y_node_max = 0, node_size, 0, node_size\n",
    "xx, yy = np.meshgrid(range(x_node_min, x_node_max), range(y_node_min, y_node_max))\n",
    "z = yy * 1e-5\n",
    "plt.imshow(z)"
   ]
  },
  {
   "cell_type": "code",
   "execution_count": 7,
   "metadata": {},
   "outputs": [],
   "source": [
    "def space_to_node(space_x,space_y):\n",
    "    node_x = x_node_min + np.floor(x_node_max * (space_x - x_space_min) / (x_space_max - x_space_min))\n",
    "    node_y = y_node_min + np.floor(y_node_max * (space_y - y_space_min) / (y_space_max - y_space_min))\n",
    "    return np.array([node_x, node_y])"
   ]
  },
  {
   "cell_type": "code",
   "execution_count": 25,
   "metadata": {},
   "outputs": [
    {
     "data": {
      "text/plain": [
       "[<matplotlib.lines.Line2D at 0x22337758700>]"
      ]
     },
     "execution_count": 25,
     "metadata": {},
     "output_type": "execute_result"
    },
    {
     "data": {
      "image/png": "[encoded data removed]",
      "text/plain": [
       "<Figure size 432x288 with 1 Axes>"
      ]
     },
     "metadata": {
      "needs_background": "light"
     },
     "output_type": "display_data"
    }
   ],
   "source": [
    "laser_start_points = [(0,50), (50,100)]\n",
    "beam_normal_directions = [0,np.pi/2] # radians wrt x axis\n",
    "ray_count_per_beam = 1000\n",
    "\n",
    "scale_factor = 2e15\n",
    "beam_profile_range = np.linspace(-beam_half_width, beam_half_width, ray_count_per_beam) # phase_r\n",
    "beam_profile = scale_factor * np.exp(-((beam_profile_range/.0375)**2)**(5/2)) # pow_r\n",
    "\n",
    "\n",
    "plt.plot(beam_profile)\n"
   ]
  },
  {
   "cell_type": "code",
   "execution_count": 65,
   "metadata": {},
   "outputs": [
    {
     "ename": "IndexError",
     "evalue": "arrays used as indices must be of integer (or boolean) type",
     "output_type": "error",
     "traceback": [
      "\u001b[1;31m---------------------------------------------------------------------------\u001b[0m",
      "\u001b[1;31mIndexError\u001b[0m                                Traceback (most recent call last)",
      "\u001b[1;32mc:\\Users\\apoudel\\python-cbet\\launch_ray.ipynb Cell 7\u001b[0m in \u001b[0;36m<cell line: 12>\u001b[1;34m()\u001b[0m\n\u001b[0;32m     <a href='vscode-notebook-cell:/c%3A/Users/apoudel/python-cbet/launch_ray.ipynb#W5sZmlsZQ%3D%3D?line=9'>10</a>\u001b[0m rays \u001b[39m=\u001b[39m np\u001b[39m.\u001b[39mvstack((spatial_position\u001b[39m.\u001b[39mT, beam_profile, np\u001b[39m.\u001b[39mfull(\u001b[39m1000\u001b[39m,direction)))\n\u001b[0;32m     <a href='vscode-notebook-cell:/c%3A/Users/apoudel/python-cbet/launch_ray.ipynb#W5sZmlsZQ%3D%3D?line=10'>11</a>\u001b[0m next_step \u001b[39m=\u001b[39m rays\u001b[39m.\u001b[39mcopy()\n\u001b[1;32m---> <a href='vscode-notebook-cell:/c%3A/Users/apoudel/python-cbet/launch_ray.ipynb#W5sZmlsZQ%3D%3D?line=11'>12</a>\u001b[0m next_step[:\u001b[39m1\u001b[39m,:] \u001b[39m+\u001b[39m\u001b[39m=\u001b[39m z[node_positions]\n\u001b[0;32m     <a href='vscode-notebook-cell:/c%3A/Users/apoudel/python-cbet/launch_ray.ipynb#W5sZmlsZQ%3D%3D?line=12'>13</a>\u001b[0m \u001b[39mprint\u001b[39m(next_step\u001b[39m.\u001b[39mshape)\n\u001b[0;32m     <a href='vscode-notebook-cell:/c%3A/Users/apoudel/python-cbet/launch_ray.ipynb#W5sZmlsZQ%3D%3D?line=13'>14</a>\u001b[0m plt\u001b[39m.\u001b[39mscatter(\u001b[39m*\u001b[39mnode_positions)\n",
      "\u001b[1;31mIndexError\u001b[0m: arrays used as indices must be of integer (or boolean) type"
     ]
    }
   ],
   "source": [
    "beam_directions = [0, np.pi/4]\n",
    "beam_positions = [[0,50]]\n",
    "sp =  np.array([np.zeros(1000), np.linspace(-2e-4,2e-4,1000)])\n",
    "sp = sp.T\n",
    "newsp = sp \n",
    "direction = -np.pi/4\n",
    "spatial_position = rotate(*newsp.T, direction).T + [-4e-4,4e-4]\n",
    "node_positions = space_to_node(*spatial_position.T)\n",
    "\n",
    "rays = np.vstack((spatial_position.T, beam_profile, np.full(1000,direction)))\n",
    "next_step = rays.copy()\n",
    "next_step[:1,:] += \n",
    "print(next_step.shape)\n",
    "plt.scatter(*node_positions)\n",
    "plt.scatter(*space_to_node(*next_step[:2,:]))\n",
    "plt.imshow(z)"
   ]
  },
  {
   "attachments": {},
   "cell_type": "markdown",
   "metadata": {},
   "source": [
    "# Bezier estimations"
   ]
  },
  {
   "cell_type": "code",
   "execution_count": 9,
   "metadata": {},
   "outputs": [],
   "source": [
    "def raster_rays_to_bezier(raster_points, number_of_control_points = 6, tolerance = 5, limit_control_points = 100, plot = False, plot_control = False):\n",
    "    \"\"\"\n",
    "    raster_points: np.array[n, 2] ; n is the number of pixels rastered\n",
    "    number_of_control_points: starting expected number of control points\n",
    "    tolerance: difference between raster and bezier\n",
    "    limit_control_points: max number of control points\n",
    "    \"\"\"\n",
    "    x, y = raster_points.T\n",
    "    if plot:\n",
    "        plt.plot(x,y)\n",
    "\n",
    "    # https://stackoverflow.com/questions/12643079/b%C3%A9zier-curve-fitting-with-scipy\n",
    "    # solves an arbitrary curve for a bezier using all points. produces a bezier curve with number_of_control_points\n",
    "\n",
    "    matrix = lambda n, t, k: t ** (k) * (1-t) ** (n-k) * comb(n, k) # n: polynomial degree, t: parameter, k: current term\n",
    "    get_bezier = lambda parameter_range, num_control_points: np.array([[\n",
    "        matrix(num_control_points-1, t, k) for k in range(num_control_points)] for t in parameter_range\n",
    "        ])\n",
    "\n",
    "    def least_squares_fit(points, matrix):\n",
    "        matrix_ = np.linalg.pinv(matrix)\n",
    "        return np.matmul(matrix_,points)\n",
    "\n",
    "    points = np.array(list(zip(x, y)))\n",
    "    while True:\n",
    "        control_points = least_squares_fit(points, get_bezier(np.linspace(0,1,1000),number_of_control_points))\n",
    "        bezier_curve = bezier.BezierSegment(control_points)\n",
    "        bezier_plot_points = np.array(bezier_curve.point_at_t(np.linspace(0,1,1000)))\n",
    "        if(np.sum(np.abs(bezier_plot_points - points)) < tolerance or number_of_control_points >= limit_control_points):\n",
    "            break\n",
    "        number_of_control_points += 1\n",
    "    print(\"Control Points: \", number_of_control_points, \"Difference: \", np.sum(np.abs(bezier_plot_points - points)))\n",
    "    if plot_control:\n",
    "        plt.scatter(*control_points.T)\n",
    "    if plot:\n",
    "        plt.plot(*bezier_plot_points.T, linestyle='-.')\n",
    "    return control_points, bezier_curve\n"
   ]
  },
  {
   "cell_type": "code",
   "execution_count": 10,
   "metadata": {},
   "outputs": [
    {
     "name": "stdout",
     "output_type": "stream",
     "text": [
      "Control Points:  11 Difference:  0.4974185383250326\n"
     ]
    },
    {
     "data": {
      "text/plain": [
       "(array([[-3.14159265e+00,  2.48080441e-03],\n",
       "        [-2.51327412e+00, -3.68708063e-02],\n",
       "        [-1.88495559e+00,  1.13195028e+00],\n",
       "        [-1.25663706e+00,  1.51224740e+00],\n",
       "        [-6.28318531e-01,  6.35751710e+00],\n",
       "        [-3.55271368e-13, -1.24346776e+01],\n",
       "        [ 6.28318531e-01,  6.35751710e+00],\n",
       "        [ 1.25663706e+00,  1.51224740e+00],\n",
       "        [ 1.88495559e+00,  1.13195028e+00],\n",
       "        [ 2.51327412e+00, -3.68708063e-02],\n",
       "        [ 3.14159265e+00,  2.48080441e-03]]),\n",
       " <matplotlib.bezier.BezierSegment at 0x223345551c0>)"
      ]
     },
     "execution_count": 10,
     "metadata": {},
     "output_type": "execute_result"
    },
    {
     "data": {
      "image/png": "[encoded data removed]",
      "text/plain": [
       "<Figure size 432x288 with 1 Axes>"
      ]
     },
     "metadata": {
      "needs_background": "light"
     },
     "output_type": "display_data"
    }
   ],
   "source": [
    "x = np.linspace(-np.pi, np.pi, 1000)\n",
    "y = np.sin(x) ** 2\n",
    "raster_rays_to_bezier(np.array([x,y]).T, number_of_control_points = 10, plot =True, plot_control = True)"
   ]
  },
  {
   "cell_type": "code",
   "execution_count": 12,
   "metadata": {},
   "outputs": [
    {
     "name": "stdout",
     "output_type": "stream",
     "text": [
      "Control Points:  15 Difference:  26.628065760075096\n"
     ]
    },
    {
     "data": {
      "text/plain": [
       "(array([[-3.14159265e+00,  1.20260578e-01],\n",
       "        [-2.69279370e+00,  6.64764820e-01],\n",
       "        [-2.24399475e+00,  5.08709714e+00],\n",
       "        [-1.79519580e+00, -2.30405929e+01],\n",
       "        [-1.34639685e+00,  8.49592815e+01],\n",
       "        [-8.97597901e-01, -1.97106044e+02],\n",
       "        [-4.48798951e-01,  3.33330322e+02],\n",
       "        [ 6.82121026e-13, -3.96590918e+02],\n",
       "        [ 4.48798951e-01,  3.33330322e+02],\n",
       "        [ 8.97597901e-01, -1.97106044e+02],\n",
       "        [ 1.34639685e+00,  8.49592815e+01],\n",
       "        [ 1.79519580e+00, -2.30405929e+01],\n",
       "        [ 2.24399475e+00,  5.08709714e+00],\n",
       "        [ 2.69279370e+00,  6.64764820e-01],\n",
       "        [ 3.14159265e+00,  1.20260578e-01]]),\n",
       " <matplotlib.bezier.BezierSegment at 0x22334555820>)"
      ]
     },
     "execution_count": 12,
     "metadata": {},
     "output_type": "execute_result"
    },
    {
     "data": {
      "image/png": "[encoded data removed]",
      "text/plain": [
       "<Figure size 432x288 with 1 Axes>"
      ]
     },
     "metadata": {
      "needs_background": "light"
     },
     "output_type": "display_data"
    }
   ],
   "source": [
    "x = np.linspace(-np.pi, np.pi, 1000)\n",
    "y = np.abs(np.sin(x)) ** (1/2)\n",
    "raster_rays_to_bezier(np.array([x,y]).T, 1, plot =True, limit_control_points=15)"
   ]
  },
  {
   "cell_type": "code",
   "execution_count": 14,
   "metadata": {},
   "outputs": [
    {
     "name": "stdout",
     "output_type": "stream",
     "text": [
      "Control Points:  4 Difference:  8.027714777647521e-12\n"
     ]
    },
    {
     "data": {
      "text/plain": [
       "(array([[ -3.14159265,  16.56243956],\n",
       "        [ -1.04719755,  40.28277916],\n",
       "        [  1.04719755, -46.86251543],\n",
       "        [  3.14159265,   3.17676924]]),\n",
       " <matplotlib.bezier.BezierSegment at 0x22337333220>)"
      ]
     },
     "execution_count": 14,
     "metadata": {},
     "output_type": "execute_result"
    },
    {
     "data": {
      "image/png": "[encoded data removed]",
      "text/plain": [
       "<Figure size 432x288 with 1 Axes>"
      ]
     },
     "metadata": {
      "needs_background": "light"
     },
     "output_type": "display_data"
    }
   ],
   "source": [
    "x = np.linspace(-np.pi, np.pi, 1000)\n",
    "y = (x-3) * (x + 4) * x\n",
    "raster_rays_to_bezier(np.array([x,y]).T, 1, plot=True, plot_control=True)"
   ]
  },
  {
   "cell_type": "code",
   "execution_count": null,
   "metadata": {},
   "outputs": [],
   "source": []
  }
 ],
 "metadata": {
  "kernelspec": {
   "display_name": "base",
   "language": "python",
   "name": "python3"
  },
  "language_info": {
   "codemirror_mode": {
    "name": "ipython",
    "version": 3
   },
   "file_extension": ".py",
   "mimetype": "text/x-python",
   "name": "python",
   "nbconvert_exporter": "python",
   "pygments_lexer": "ipython3",
   "version": "3.9.12"
  },
  "orig_nbformat": 4,
  "vscode": {
   "interpreter": {
    "hash": "ad2bdc8ecc057115af97d19610ffacc2b4e99fae6737bb82f5d7fb13d2f2c186"
   }
  }
 },
 "nbformat": 4,
 "nbformat_minor": 2
}
