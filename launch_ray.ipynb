{
 "cells": [
  {
   "cell_type": "code",
   "execution_count": 4,
   "metadata": {},
   "outputs": [],
   "source": [
    "import numpy as np\n",
    "import matplotlib.pyplot as plt"
   ]
  },
  {
   "cell_type": "code",
   "execution_count": 5,
   "metadata": {},
   "outputs": [],
   "source": [
    "class Vector:\n",
    "    def __init__(self, x, y, ray_profile, angle) -> None:\n",
    "        self.spatial_x = x\n",
    "        self.spatial_y = y\n",
    "        self.magnitude = ray_profile\n",
    "        self.direction = angle"
   ]
  },
  {
   "cell_type": "code",
   "execution_count": 6,
   "metadata": {},
   "outputs": [
    {
     "data": {
      "text/plain": [
       "<matplotlib.image.AxesImage at 0x259823ad640>"
      ]
     },
     "execution_count": 6,
     "metadata": {},
     "output_type": "execute_result"
    },
    {
     "data": {
      "image/png": "[encoded data removed]",
      "text/plain": [
       "<Figure size 432x288 with 1 Axes>"
      ]
     },
     "metadata": {
      "needs_background": "light"
     },
     "output_type": "display_data"
    }
   ],
   "source": [
    "space_size, node_size = 5e-4, 100\n",
    "x_space_min, x_space_max, y_space_min, y_space_max = -space_size, space_size, -space_size, space_size\n",
    "x_node_min, x_node_max, y_node_min, y_node_max = 0, node_size, 0, node_size\n",
    "xx, yy = np.meshgrid(range(x_node_min, x_node_max), range(y_node_min, y_node_max))\n",
    "z = yy\n",
    "plt.imshow(z)"
   ]
  },
  {
   "cell_type": "code",
   "execution_count": 7,
   "metadata": {},
   "outputs": [],
   "source": [
    "def space_to_node(space_x,space_y):\n",
    "    node_x = x_node_min + x_node_max * (space_x - x_space_min) / (x_space_max - x_space_min)\n",
    "    node_y = y_node_min + y_node_max * (space_y - y_space_min) / (y_space_max - y_space_min)\n",
    "    return node_x, node_y"
   ]
  },
  {
   "cell_type": "code",
   "execution_count": 28,
   "metadata": {},
   "outputs": [
    {
     "data": {
      "text/plain": [
       "[<matplotlib.lines.Line2D at 0x25982652c70>]"
      ]
     },
     "execution_count": 28,
     "metadata": {},
     "output_type": "execute_result"
    },
    {
     "data": {
      "image/png": "[encoded data removed]",
      "text/plain": [
       "<Figure size 432x288 with 1 Axes>"
      ]
     },
     "metadata": {
      "needs_background": "light"
     },
     "output_type": "display_data"
    }
   ],
   "source": [
    "laser_start_points = [(0,50), (50,100)]\n",
    "beam_normal_directions = [0,np.pi/2] # radians wrt x axis\n",
    "ray_count_per_beam = 1000\n",
    "\n",
    "scale_factor = 1\n",
    "beam_profile_range = -np.linspace(-2e-4,2e-4,ray_count_per_beam) \n",
    "beam_profile = scale_factor * np.exp(-((beam_profile_range/.0375)**2)**(5/2))\n",
    "\n",
    "initial_intensities = list()\n",
    "for start_points, normals in zip(laser_start_points, beam_normal_directions):\n",
    "    spatial_spread = start_points[0] * ray_count_per_beam\n",
    "\n",
    "\n",
    "plt.plot(beam_profile)\n"
   ]
  },
  {
   "cell_type": "code",
   "execution_count": null,
   "metadata": {},
   "outputs": [
    {
     "data": {
      "text/plain": [
       "<matplotlib.image.AxesImage at 0x26b16258760>"
      ]
     },
     "execution_count": 64,
     "metadata": {},
     "output_type": "execute_result"
    },
    {
     "data": {
      "image/png": "[encoded data removed]",
      "text/plain": [
       "<Figure size 640x480 with 1 Axes>"
      ]
     },
     "metadata": {},
     "output_type": "display_data"
    }
   ],
   "source": [
    "plt.imshow(z)"
   ]
  },
  {
   "cell_type": "code",
   "execution_count": null,
   "metadata": {},
   "outputs": [],
   "source": []
  }
 ],
 "metadata": {
  "kernelspec": {
   "display_name": "base",
   "language": "python",
   "name": "python3"
  },
  "language_info": {
   "codemirror_mode": {
    "name": "ipython",
    "version": 3
   },
   "file_extension": ".py",
   "mimetype": "text/x-python",
   "name": "python",
   "nbconvert_exporter": "python",
   "pygments_lexer": "ipython3",
   "version": "3.9.12"
  },
  "orig_nbformat": 4,
  "vscode": {
   "interpreter": {
    "hash": "ad2bdc8ecc057115af97d19610ffacc2b4e99fae6737bb82f5d7fb13d2f2c186"
   }
  }
 },
 "nbformat": 4,
 "nbformat_minor": 2
}
